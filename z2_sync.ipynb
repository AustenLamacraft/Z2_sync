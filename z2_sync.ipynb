{
 "cells": [
  {
   "cell_type": "markdown",
   "metadata": {},
   "source": [
    "# Mean field inference for $\\mathbb{Z}_2$ Syncronization\n",
    "\n",
    "We illustrate the $\\mathbb{Z}_2$ syncronization inference problem using [pyro](http://pyro.ai)."
   ]
  },
  {
   "cell_type": "code",
   "execution_count": 1,
   "metadata": {
    "collapsed": true
   },
   "outputs": [],
   "source": [
    "# import some dependencies\n",
    "import torch\n",
    "from torch.autograd import Variable\n",
    "\n",
    "import numpy as np\n",
    "\n",
    "import pyro\n",
    "import pyro.distributions as dist\n",
    "import pyro\n",
    "\n",
    "from pyro.infer import SVI"
   ]
  },
  {
   "cell_type": "markdown",
   "metadata": {},
   "source": [
    "## The model\n",
    "\n",
    "Our model is\n",
    "\n",
    "$$\n",
    "Y_{ij} = \\frac{\\lambda}{n}\\sigma_i\\sigma_j+ \\frac{W_{ij}}{\\sqrt{n}},\n",
    "$$\n",
    "\n",
    "with $\\sigma_{i}\\in\\{\\pm 1\\}$, $i=1,\\ldots n$, where $W_{i>j}\\in \\mathcal{N}(0,1)$, with $W_{ij}=W_{ji}$ and $W_{ii}=0$. Thus we need to sample from the distribution\n",
    "\n",
    "$$\n",
    "p(\\sigma,Y;m) = \\prod_i p(\\sigma_i;m_i) \\prod_{i>j} \\sqrt{\\frac{n}{2\\pi}}\\exp\\left[-\\frac{N\\left(Y_{ij} - \\lambda \\sigma_i \\sigma_j/n\\right)^2}{2}\\right],\n",
    "$$\n",
    "\n",
    "where the first factor describes the Bernoulli distributions, parameterized in terms of their expectations $m_i$.\n",
    "\n",
    "$$\n",
    "p(\\sigma_i=\\pm 1;m_i) = \\frac{1\\pm m_i}{2}.\n",
    "$$\n",
    "\n",
    "Actually, we want to obtain $p(\\sigma|Y)$, which amounts to determining posterior $m_i(Y)$. \n",
    "\n",
    "\n",
    "## The planted ensemble\n",
    "\n",
    "First we need to make some observations, using the above model. We will observe the $Y_{i>j}$ with a Gaussian likelihood, with the mean set by the variables $\\sigma_j$. This is what is called the __planted ensemble__ in [this review](http://www.tandfonline.com/doi/full/10.1080/00018732.2016.1211393).\n"
   ]
  },
  {
   "cell_type": "code",
   "execution_count": 12,
   "metadata": {},
   "outputs": [
    {
     "data": {
      "text/plain": [
       "array([[ 0.70092258,  1.48287668, -0.86865993],\n",
       "       [-0.86309617,  0.40523175, -0.62124852]])"
      ]
     },
     "execution_count": 12,
     "metadata": {},
     "output_type": "execute_result"
    }
   ],
   "source": [
    "np.random.standard_normal([2,3])"
   ]
  },
  {
   "cell_type": "markdown",
   "metadata": {},
   "source": [
    "## Setting it up in Pyro\n",
    "\n",
    "As per [this guide](http://pyro.ai/examples/svi_part_i.html), to do variational inference in Pyro, we need to define a __model__ and a __guide__. The model consists of\n",
    "\n",
    "1. Observations (`pyro.observe`), in our case $Y_{ij}$\n",
    "1. Latent random variables (`pyro.sample`), $\\sigma_j$\n",
    "1. Parameters (`pyro.param`), $m_i$\n",
    "\n",
    "The guide is the variational distribution. It is also a stochastic function, but without `pyro.observe` statements.\n",
    "\n"
   ]
  },
  {
   "cell_type": "code",
   "execution_count": 5,
   "metadata": {
    "collapsed": true
   },
   "outputs": [],
   "source": [
    "def Z2_model(λ, n, data):\n",
    "    m_0 = Variable(torch.ones(n)*0.5) # 50% success rate\n",
    "    var = Variable(torch.ones(1)) / np.sqrt(N)\n",
    "    σ = 2 * pyro.sample('σ', dist.bernoulli, m_0) - 1 # σ variables live in {-1,1}\n",
    "    for i in range(n):\n",
    "        for j in range(i):\n",
    "            pyro.observe(f\"obs_{i}{j}\", \n",
    "                         dist.normal, Z2_data[i][j], λ*σ[i]*σ[j] / n, var)"
   ]
  },
  {
   "cell_type": "code",
   "execution_count": 7,
   "metadata": {
    "collapsed": true
   },
   "outputs": [],
   "source": [
    "def Z2_guide(λ, n, data):\n",
    "    m_var_0 = Variable(torch.ones(n)*0.5, requires_grad=True) \n",
    "    m_var = pyro.param(\"m_var\", m_var_0)\n",
    "    pyro.sample('σ', dist.bernoulli, m_var)\n"
   ]
  },
  {
   "cell_type": "code",
   "execution_count": null,
   "metadata": {
    "collapsed": true
   },
   "outputs": [],
   "source": [
    "svi = SVI(model, guide, optimizer, loss=\"ELBO\")"
   ]
  }
 ],
 "metadata": {
  "kernelspec": {
   "display_name": "Python [conda env:pytorch]",
   "language": "python",
   "name": "conda-env-pytorch-py"
  },
  "language_info": {
   "codemirror_mode": {
    "name": "ipython",
    "version": 3
   },
   "file_extension": ".py",
   "mimetype": "text/x-python",
   "name": "python",
   "nbconvert_exporter": "python",
   "pygments_lexer": "ipython3",
   "version": "3.6.4"
  }
 },
 "nbformat": 4,
 "nbformat_minor": 2
}
